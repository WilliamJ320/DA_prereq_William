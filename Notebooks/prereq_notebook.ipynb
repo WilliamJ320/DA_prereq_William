{
 "cells": [
  {
   "cell_type": "code",
   "execution_count": 11,
   "id": "64abb982",
   "metadata": {},
   "outputs": [
    {
     "name": "stdout",
     "output_type": "stream",
     "text": [
      "Coding is fun and I am ready to get absolutely cracked at it\n"
     ]
    }
   ],
   "source": [
    "print (\"Coding is fun and I am ready to get absolutely cracked at it\")"
   ]
  },
  {
   "cell_type": "markdown",
   "id": "ee878fe8",
   "metadata": {},
   "source": [
    "#Hello!\n",
    "My name is William and I am a musician who moved to Louisville in July of 2020. I got my undergrad/grad degrees \n",
    "in Music Performance and I'm looking to diversify my skillsets into the tech field. I spend a good amount of time touring with my band DOOMGONG so I like the versatility that working a remote tech job could offer. Through this program I am looking to learn the skills that would help me do things like inventory management and maybe segue into more marketing trend tracking. I'm open to many things though! I look forward to working with all of you. "
   ]
  }
 ],
 "metadata": {
  "kernelspec": {
   "display_name": "Python 3",
   "language": "python",
   "name": "python3"
  },
  "language_info": {
   "codemirror_mode": {
    "name": "ipython",
    "version": 3
   },
   "file_extension": ".py",
   "mimetype": "text/x-python",
   "name": "python",
   "nbconvert_exporter": "python",
   "pygments_lexer": "ipython3",
   "version": "3.13.5"
  }
 },
 "nbformat": 4,
 "nbformat_minor": 5
}
